{
 "cells": [
  {
   "cell_type": "code",
   "execution_count": 1,
   "metadata": {},
   "outputs": [
    {
     "name": "stderr",
     "output_type": "stream",
     "text": [
      "/Users/ayushlodha/opt/anaconda3/lib/python3.9/site-packages/scipy/__init__.py:155: UserWarning: A NumPy version >=1.18.5 and <1.25.0 is required for this version of SciPy (detected version 1.26.1\n",
      "  warnings.warn(f\"A NumPy version >={np_minversion} and <{np_maxversion}\"\n"
     ]
    }
   ],
   "source": [
    "import pandas as pd\n",
    "from sklearn.preprocessing import StandardScaler, OneHotEncoder\n",
    "from sklearn.compose import ColumnTransformer\n",
    "from sklearn.decomposition import PCA\n",
    "\n",
    "# Load the datasets\n",
    "data_features = pd.read_csv(\"train_logs.csv\")\n",
    "data_scores = pd.read_csv(\"train_scores.csv\")\n",
    "\n",
    "# Merge the features and scores on 'id'\n",
    "data = pd.merge(data_features, data_scores, on='id', how='left')"
   ]
  },
  {
   "cell_type": "code",
   "execution_count": 2,
   "metadata": {},
   "outputs": [],
   "source": [
    "# Create a mapping dictionary for the categories\n",
    "action_category_mapping = {\n",
    "    'Mouse Actions': ['Leftclick', 'Rightclick', 'Middleclick', 'Unknownclick'],\n",
    "    'Keyboard Actions': ['Shift', 't', 's', 'n', 'y', 'q', '_', 'h', 'Space', 'Backspace', '.', 'F', 'g', 'M', 'l', '|', ',', 'I', '0', '1', '5', 'Enter', 'ArrowLeft', \"'\", ';', 'ArrowRight', '-', '?', 'Tab', '\"', 'ArrowUp', 'ArrowDown', 'Control', 'c', 'v', '/', 'Delete', ':', 'z', '[', '$', '(', ')', '+', 'Home', 'End', '\\\\', 'Meta', '*', '&', 'x', '!', 'Insert', 'NumLock', '%', 'V', '>', 'Alt', 'a', '<', 'PageDown', ']', 'PageUp', 'Escape', 'AltGraph', 'OS', 'F', 'C', 'o', 'ä', 'F1', 'Pause','Unidentified', 'Cancel', '2', 'i', 'd', 'r', 'e', '`', 'm', '#', '~', 'T', 'A', 'b', 'S'],\n",
    "    'Media Actions': ['AudioVolumeMute', 'MediaPlayPause', 'ContextMenu', 'AudioVolumeUp', 'AudioVolumeDown', 'MediaTrackPrevious', 'MediaTrackNext'],\n",
    "    'Function Keys': ['F12', 'F3', 'F11', 'F10', 'F15', 'F2'],\n",
    "    'Other Actions': ['Dead', '{', 'ModeChange', 'ScrollLock', '¿', 'Process', '}',  'Clear', 'â\\x80\\x93', '\\x97', 'Ë\\x86', '¡', '\\x80', 'Â´', 'Å\\x9f', '^']\n",
    "}\n",
    "# Create a new column 'action_category' in your DataFrame based on the mapping\n",
    "data['down_event_action_category'] = data['down_event'].map({action: category for category, actions in action_category_mapping.items() for action in actions})\n",
    "data['up_event_action_category'] = data['up_event'].map({action: category for category, actions in action_category_mapping.items() for action in actions})"
   ]
  },
  {
   "cell_type": "code",
   "execution_count": 3,
   "metadata": {},
   "outputs": [],
   "source": [
    "data = data.drop(['down_event', 'up_event'], axis=1)"
   ]
  },
  {
   "cell_type": "code",
   "execution_count": 6,
   "metadata": {},
   "outputs": [
    {
     "data": {
      "text/html": [
       "<div>\n",
       "<style scoped>\n",
       "    .dataframe tbody tr th:only-of-type {\n",
       "        vertical-align: middle;\n",
       "    }\n",
       "\n",
       "    .dataframe tbody tr th {\n",
       "        vertical-align: top;\n",
       "    }\n",
       "\n",
       "    .dataframe thead th {\n",
       "        text-align: right;\n",
       "    }\n",
       "</style>\n",
       "<table border=\"1\" class=\"dataframe\">\n",
       "  <thead>\n",
       "    <tr style=\"text-align: right;\">\n",
       "      <th></th>\n",
       "      <th>id</th>\n",
       "      <th>event_id</th>\n",
       "      <th>down_time</th>\n",
       "      <th>up_time</th>\n",
       "      <th>action_time</th>\n",
       "      <th>activity</th>\n",
       "      <th>text_change</th>\n",
       "      <th>cursor_position</th>\n",
       "      <th>word_count</th>\n",
       "      <th>score</th>\n",
       "      <th>down_event_action_category</th>\n",
       "      <th>up_event_action_category</th>\n",
       "    </tr>\n",
       "  </thead>\n",
       "  <tbody>\n",
       "    <tr>\n",
       "      <th>0</th>\n",
       "      <td>001519c8</td>\n",
       "      <td>1</td>\n",
       "      <td>4526</td>\n",
       "      <td>4557</td>\n",
       "      <td>31</td>\n",
       "      <td>Nonproduction</td>\n",
       "      <td>NoChange</td>\n",
       "      <td>0</td>\n",
       "      <td>0</td>\n",
       "      <td>3.5</td>\n",
       "      <td>Mouse Actions</td>\n",
       "      <td>Mouse Actions</td>\n",
       "    </tr>\n",
       "    <tr>\n",
       "      <th>1</th>\n",
       "      <td>001519c8</td>\n",
       "      <td>2</td>\n",
       "      <td>4558</td>\n",
       "      <td>4962</td>\n",
       "      <td>404</td>\n",
       "      <td>Nonproduction</td>\n",
       "      <td>NoChange</td>\n",
       "      <td>0</td>\n",
       "      <td>0</td>\n",
       "      <td>3.5</td>\n",
       "      <td>Mouse Actions</td>\n",
       "      <td>Mouse Actions</td>\n",
       "    </tr>\n",
       "    <tr>\n",
       "      <th>2</th>\n",
       "      <td>001519c8</td>\n",
       "      <td>3</td>\n",
       "      <td>106571</td>\n",
       "      <td>106571</td>\n",
       "      <td>0</td>\n",
       "      <td>Nonproduction</td>\n",
       "      <td>NoChange</td>\n",
       "      <td>0</td>\n",
       "      <td>0</td>\n",
       "      <td>3.5</td>\n",
       "      <td>Keyboard Actions</td>\n",
       "      <td>Keyboard Actions</td>\n",
       "    </tr>\n",
       "    <tr>\n",
       "      <th>3</th>\n",
       "      <td>001519c8</td>\n",
       "      <td>4</td>\n",
       "      <td>106686</td>\n",
       "      <td>106777</td>\n",
       "      <td>91</td>\n",
       "      <td>Input</td>\n",
       "      <td>q</td>\n",
       "      <td>1</td>\n",
       "      <td>1</td>\n",
       "      <td>3.5</td>\n",
       "      <td>Keyboard Actions</td>\n",
       "      <td>Keyboard Actions</td>\n",
       "    </tr>\n",
       "    <tr>\n",
       "      <th>4</th>\n",
       "      <td>001519c8</td>\n",
       "      <td>5</td>\n",
       "      <td>107196</td>\n",
       "      <td>107323</td>\n",
       "      <td>127</td>\n",
       "      <td>Input</td>\n",
       "      <td>q</td>\n",
       "      <td>2</td>\n",
       "      <td>1</td>\n",
       "      <td>3.5</td>\n",
       "      <td>Keyboard Actions</td>\n",
       "      <td>Keyboard Actions</td>\n",
       "    </tr>\n",
       "    <tr>\n",
       "      <th>...</th>\n",
       "      <td>...</td>\n",
       "      <td>...</td>\n",
       "      <td>...</td>\n",
       "      <td>...</td>\n",
       "      <td>...</td>\n",
       "      <td>...</td>\n",
       "      <td>...</td>\n",
       "      <td>...</td>\n",
       "      <td>...</td>\n",
       "      <td>...</td>\n",
       "      <td>...</td>\n",
       "      <td>...</td>\n",
       "    </tr>\n",
       "    <tr>\n",
       "      <th>8405893</th>\n",
       "      <td>fff05981</td>\n",
       "      <td>3615</td>\n",
       "      <td>2063944</td>\n",
       "      <td>2064440</td>\n",
       "      <td>496</td>\n",
       "      <td>Nonproduction</td>\n",
       "      <td>NoChange</td>\n",
       "      <td>1031</td>\n",
       "      <td>240</td>\n",
       "      <td>4.0</td>\n",
       "      <td>Mouse Actions</td>\n",
       "      <td>Mouse Actions</td>\n",
       "    </tr>\n",
       "    <tr>\n",
       "      <th>8405894</th>\n",
       "      <td>fff05981</td>\n",
       "      <td>3616</td>\n",
       "      <td>2064497</td>\n",
       "      <td>2064497</td>\n",
       "      <td>0</td>\n",
       "      <td>Nonproduction</td>\n",
       "      <td>NoChange</td>\n",
       "      <td>1031</td>\n",
       "      <td>240</td>\n",
       "      <td>4.0</td>\n",
       "      <td>Keyboard Actions</td>\n",
       "      <td>Keyboard Actions</td>\n",
       "    </tr>\n",
       "    <tr>\n",
       "      <th>8405895</th>\n",
       "      <td>fff05981</td>\n",
       "      <td>3617</td>\n",
       "      <td>2064657</td>\n",
       "      <td>2064765</td>\n",
       "      <td>108</td>\n",
       "      <td>Replace</td>\n",
       "      <td>q =&gt; q</td>\n",
       "      <td>1031</td>\n",
       "      <td>240</td>\n",
       "      <td>4.0</td>\n",
       "      <td>Keyboard Actions</td>\n",
       "      <td>Keyboard Actions</td>\n",
       "    </tr>\n",
       "    <tr>\n",
       "      <th>8405896</th>\n",
       "      <td>fff05981</td>\n",
       "      <td>3618</td>\n",
       "      <td>2069186</td>\n",
       "      <td>2069259</td>\n",
       "      <td>73</td>\n",
       "      <td>Nonproduction</td>\n",
       "      <td>NoChange</td>\n",
       "      <td>1028</td>\n",
       "      <td>240</td>\n",
       "      <td>4.0</td>\n",
       "      <td>Mouse Actions</td>\n",
       "      <td>Mouse Actions</td>\n",
       "    </tr>\n",
       "    <tr>\n",
       "      <th>8405897</th>\n",
       "      <td>fff05981</td>\n",
       "      <td>3619</td>\n",
       "      <td>2070065</td>\n",
       "      <td>2070133</td>\n",
       "      <td>68</td>\n",
       "      <td>Input</td>\n",
       "      <td>.</td>\n",
       "      <td>1029</td>\n",
       "      <td>240</td>\n",
       "      <td>4.0</td>\n",
       "      <td>Keyboard Actions</td>\n",
       "      <td>Keyboard Actions</td>\n",
       "    </tr>\n",
       "  </tbody>\n",
       "</table>\n",
       "<p>8405898 rows × 12 columns</p>\n",
       "</div>"
      ],
      "text/plain": [
       "               id  event_id  down_time  up_time  action_time       activity  \\\n",
       "0        001519c8         1       4526     4557           31  Nonproduction   \n",
       "1        001519c8         2       4558     4962          404  Nonproduction   \n",
       "2        001519c8         3     106571   106571            0  Nonproduction   \n",
       "3        001519c8         4     106686   106777           91          Input   \n",
       "4        001519c8         5     107196   107323          127          Input   \n",
       "...           ...       ...        ...      ...          ...            ...   \n",
       "8405893  fff05981      3615    2063944  2064440          496  Nonproduction   \n",
       "8405894  fff05981      3616    2064497  2064497            0  Nonproduction   \n",
       "8405895  fff05981      3617    2064657  2064765          108        Replace   \n",
       "8405896  fff05981      3618    2069186  2069259           73  Nonproduction   \n",
       "8405897  fff05981      3619    2070065  2070133           68          Input   \n",
       "\n",
       "        text_change  cursor_position  word_count  score  \\\n",
       "0          NoChange                0           0    3.5   \n",
       "1          NoChange                0           0    3.5   \n",
       "2          NoChange                0           0    3.5   \n",
       "3                 q                1           1    3.5   \n",
       "4                 q                2           1    3.5   \n",
       "...             ...              ...         ...    ...   \n",
       "8405893    NoChange             1031         240    4.0   \n",
       "8405894    NoChange             1031         240    4.0   \n",
       "8405895      q => q             1031         240    4.0   \n",
       "8405896    NoChange             1028         240    4.0   \n",
       "8405897           .             1029         240    4.0   \n",
       "\n",
       "        down_event_action_category up_event_action_category  \n",
       "0                    Mouse Actions            Mouse Actions  \n",
       "1                    Mouse Actions            Mouse Actions  \n",
       "2                 Keyboard Actions         Keyboard Actions  \n",
       "3                 Keyboard Actions         Keyboard Actions  \n",
       "4                 Keyboard Actions         Keyboard Actions  \n",
       "...                            ...                      ...  \n",
       "8405893              Mouse Actions            Mouse Actions  \n",
       "8405894           Keyboard Actions         Keyboard Actions  \n",
       "8405895           Keyboard Actions         Keyboard Actions  \n",
       "8405896              Mouse Actions            Mouse Actions  \n",
       "8405897           Keyboard Actions         Keyboard Actions  \n",
       "\n",
       "[8405898 rows x 12 columns]"
      ]
     },
     "execution_count": 6,
     "metadata": {},
     "output_type": "execute_result"
    }
   ],
   "source": [
    "data"
   ]
  },
  {
   "cell_type": "code",
   "execution_count": 12,
   "metadata": {},
   "outputs": [
    {
     "ename": "",
     "evalue": "",
     "output_type": "error",
     "traceback": [
      "\u001b[1;31mThe Kernel crashed while executing code in the the current cell or a previous cell. Please review the code in the cell(s) to identify a possible cause of the failure. Click <a href='https://aka.ms/vscodeJupyterKernelCrash'>here</a> for more info. View Jupyter <a href='command:jupyter.viewOutput'>log</a> for further details."
     ]
    }
   ],
   "source": [
    "categorical_cols = ['activity', 'text_change', 'down_event_action_category', 'up_event_action_category']\n",
    "data_encoded = pd.get_dummies(data, columns=categorical_cols)\n"
   ]
  },
  {
   "cell_type": "code",
   "execution_count": null,
   "metadata": {},
   "outputs": [
    {
     "name": "stderr",
     "output_type": "stream",
     "text": [
      "/Users/ayushlodha/opt/anaconda3/lib/python3.9/site-packages/sklearn/utils/validation.py:623: FutureWarning: is_sparse is deprecated and will be removed in a future version. Check `isinstance(dtype, pd.SparseDtype)` instead.\n",
      "  if not hasattr(array, \"sparse\") and array.dtypes.apply(is_sparse).any():\n"
     ]
    }
   ],
   "source": [
    "data_encoded.drop(['id', 'event_id'], axis=1, inplace=True)"
   ]
  },
  {
   "cell_type": "code",
   "execution_count": 11,
   "metadata": {},
   "outputs": [
    {
     "data": {
      "text/plain": [
       "<8405898x4175 sparse matrix of type '<class 'numpy.float64'>'\n",
       "\twith 76886906 stored elements in Compressed Sparse Row format>"
      ]
     },
     "execution_count": 11,
     "metadata": {},
     "output_type": "execute_result"
    }
   ],
   "source": [
    "# Standardize the remaining numerical features\n",
    "numeric_cols = data_encoded.select_dtypes(include=['int64', 'float64']).columns\n",
    "scaler = StandardScaler()\n",
    "data_encoded[numeric_cols] = scaler.fit_transform(data_encoded[numeric_cols])"
   ]
  },
  {
   "cell_type": "code",
   "execution_count": null,
   "metadata": {},
   "outputs": [
    {
     "ename": "ValueError",
     "evalue": "Shape of passed values is (8405898, 1), indices imply (8405898, 4175)",
     "output_type": "error",
     "traceback": [
      "\u001b[0;31m---------------------------------------------------------------------------\u001b[0m",
      "\u001b[0;31mValueError\u001b[0m                                Traceback (most recent call last)",
      "\u001b[0;32m/var/folders/r8/jgtbgld54tz20ynw59v0pnvc0000gn/T/ipykernel_6461/1059570656.py\u001b[0m in \u001b[0;36m<module>\u001b[0;34m\u001b[0m\n\u001b[1;32m     10\u001b[0m \u001b[0;34m\u001b[0m\u001b[0m\n\u001b[1;32m     11\u001b[0m \u001b[0;31m# Create a new DataFrame with the encoded data\u001b[0m\u001b[0;34m\u001b[0m\u001b[0;34m\u001b[0m\u001b[0m\n\u001b[0;32m---> 12\u001b[0;31m \u001b[0mdata_encoded_df\u001b[0m \u001b[0;34m=\u001b[0m \u001b[0mpd\u001b[0m\u001b[0;34m.\u001b[0m\u001b[0mDataFrame\u001b[0m\u001b[0;34m(\u001b[0m\u001b[0mdata_encoded\u001b[0m\u001b[0;34m,\u001b[0m \u001b[0mcolumns\u001b[0m\u001b[0;34m=\u001b[0m\u001b[0mall_columns\u001b[0m\u001b[0;34m)\u001b[0m\u001b[0;34m\u001b[0m\u001b[0;34m\u001b[0m\u001b[0m\n\u001b[0m\u001b[1;32m     13\u001b[0m \u001b[0;34m\u001b[0m\u001b[0m\n\u001b[1;32m     14\u001b[0m \u001b[0;31m# Now we need to standardize the data: we'll scale the non-categorical columns only\u001b[0m\u001b[0;34m\u001b[0m\u001b[0;34m\u001b[0m\u001b[0m\n",
      "\u001b[0;32m~/opt/anaconda3/lib/python3.9/site-packages/pandas/core/frame.py\u001b[0m in \u001b[0;36m__init__\u001b[0;34m(self, data, index, columns, dtype, copy)\u001b[0m\n\u001b[1;32m    820\u001b[0m                     )\n\u001b[1;32m    821\u001b[0m                 \u001b[0;32melse\u001b[0m\u001b[0;34m:\u001b[0m\u001b[0;34m\u001b[0m\u001b[0;34m\u001b[0m\u001b[0m\n\u001b[0;32m--> 822\u001b[0;31m                     mgr = ndarray_to_mgr(\n\u001b[0m\u001b[1;32m    823\u001b[0m                         \u001b[0mdata\u001b[0m\u001b[0;34m,\u001b[0m\u001b[0;34m\u001b[0m\u001b[0;34m\u001b[0m\u001b[0m\n\u001b[1;32m    824\u001b[0m                         \u001b[0mindex\u001b[0m\u001b[0;34m,\u001b[0m\u001b[0;34m\u001b[0m\u001b[0;34m\u001b[0m\u001b[0m\n",
      "\u001b[0;32m~/opt/anaconda3/lib/python3.9/site-packages/pandas/core/internals/construction.py\u001b[0m in \u001b[0;36mndarray_to_mgr\u001b[0;34m(values, index, columns, dtype, copy, typ)\u001b[0m\n\u001b[1;32m    334\u001b[0m     )\n\u001b[1;32m    335\u001b[0m \u001b[0;34m\u001b[0m\u001b[0m\n\u001b[0;32m--> 336\u001b[0;31m     \u001b[0m_check_values_indices_shape_match\u001b[0m\u001b[0;34m(\u001b[0m\u001b[0mvalues\u001b[0m\u001b[0;34m,\u001b[0m \u001b[0mindex\u001b[0m\u001b[0;34m,\u001b[0m \u001b[0mcolumns\u001b[0m\u001b[0;34m)\u001b[0m\u001b[0;34m\u001b[0m\u001b[0;34m\u001b[0m\u001b[0m\n\u001b[0m\u001b[1;32m    337\u001b[0m \u001b[0;34m\u001b[0m\u001b[0m\n\u001b[1;32m    338\u001b[0m     \u001b[0;32mif\u001b[0m \u001b[0mtyp\u001b[0m \u001b[0;34m==\u001b[0m \u001b[0;34m\"array\"\u001b[0m\u001b[0;34m:\u001b[0m\u001b[0;34m\u001b[0m\u001b[0;34m\u001b[0m\u001b[0m\n",
      "\u001b[0;32m~/opt/anaconda3/lib/python3.9/site-packages/pandas/core/internals/construction.py\u001b[0m in \u001b[0;36m_check_values_indices_shape_match\u001b[0;34m(values, index, columns)\u001b[0m\n\u001b[1;32m    418\u001b[0m         \u001b[0mpassed\u001b[0m \u001b[0;34m=\u001b[0m \u001b[0mvalues\u001b[0m\u001b[0;34m.\u001b[0m\u001b[0mshape\u001b[0m\u001b[0;34m\u001b[0m\u001b[0;34m\u001b[0m\u001b[0m\n\u001b[1;32m    419\u001b[0m         \u001b[0mimplied\u001b[0m \u001b[0;34m=\u001b[0m \u001b[0;34m(\u001b[0m\u001b[0mlen\u001b[0m\u001b[0;34m(\u001b[0m\u001b[0mindex\u001b[0m\u001b[0;34m)\u001b[0m\u001b[0;34m,\u001b[0m \u001b[0mlen\u001b[0m\u001b[0;34m(\u001b[0m\u001b[0mcolumns\u001b[0m\u001b[0;34m)\u001b[0m\u001b[0;34m)\u001b[0m\u001b[0;34m\u001b[0m\u001b[0;34m\u001b[0m\u001b[0m\n\u001b[0;32m--> 420\u001b[0;31m         \u001b[0;32mraise\u001b[0m \u001b[0mValueError\u001b[0m\u001b[0;34m(\u001b[0m\u001b[0;34mf\"Shape of passed values is {passed}, indices imply {implied}\"\u001b[0m\u001b[0;34m)\u001b[0m\u001b[0;34m\u001b[0m\u001b[0;34m\u001b[0m\u001b[0m\n\u001b[0m\u001b[1;32m    421\u001b[0m \u001b[0;34m\u001b[0m\u001b[0m\n\u001b[1;32m    422\u001b[0m \u001b[0;34m\u001b[0m\u001b[0m\n",
      "\u001b[0;31mValueError\u001b[0m: Shape of passed values is (8405898, 1), indices imply (8405898, 4175)"
     ]
    }
   ],
   "source": [
    "# Perform PCA to reduce dimensions while retaining 95% variance\n",
    "pca = PCA(n_components=0.95)\n",
    "principal_components = pca.fit_transform(data_scaled)\n",
    "\n",
    "# Create a DataFrame with the principal components\n",
    "pc_columns = [f'PC{i+1}' for i in range(principal_components.shape[1])]\n",
    "data_pca = pd.DataFrame(principal_components, columns=pc_columns)\n",
    "\n",
    "# If you want to join back the 'id' for reference\n",
    "data_pca['id'] = data['id']\n",
    "\n",
    "print(data_pca)"
   ]
  },
  {
   "cell_type": "code",
   "execution_count": null,
   "metadata": {},
   "outputs": [],
   "source": []
  }
 ],
 "metadata": {
  "kernelspec": {
   "display_name": "base",
   "language": "python",
   "name": "python3"
  },
  "language_info": {
   "codemirror_mode": {
    "name": "ipython",
    "version": 3
   },
   "file_extension": ".py",
   "mimetype": "text/x-python",
   "name": "python",
   "nbconvert_exporter": "python",
   "pygments_lexer": "ipython3",
   "version": "3.9.13"
  }
 },
 "nbformat": 4,
 "nbformat_minor": 2
}
