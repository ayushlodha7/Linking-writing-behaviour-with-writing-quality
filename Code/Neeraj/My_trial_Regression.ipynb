{
 "cells": [
  {
   "cell_type": "code",
   "execution_count": 7,
   "metadata": {},
   "outputs": [],
   "source": [
    "import pandas as pd\n",
    "import numpy as np\n",
    "import seaborn as sns\n",
    "import matplotlib.pyplot as plt\n",
    "from sklearn.model_selection import train_test_split\n",
    "from sklearn.tree import DecisionTreeClassifier\n",
    "from __future__ import print_function\n",
    "import torch\n",
    "import torch.nn as nn\n",
    "import torch.nn.functional as F\n",
    "from torch.autograd import Variable\n",
    "from sklearn.metrics import accuracy_score, classification_report\n",
    "from sklearn.svm import SVC\n",
    "from sklearn.metrics import accuracy_score\n",
    "from sklearn.ensemble import RandomForestClassifier\n",
    "from sklearn.metrics import mean_squared_error\n",
    "import pandas as pd\n",
    "import numpy as np\n",
    "from sklearn.model_selection import train_test_split, GridSearchCV\n",
    "from sklearn.decomposition import PCA\n",
    "from sklearn.svm import SVC\n",
    "from sklearn.discriminant_analysis import LinearDiscriminantAnalysis as LDA\n",
    "from sklearn.ensemble import RandomForestClassifier\n",
    "from sklearn.model_selection import RandomizedSearchCV\n",
    "from scipy.stats import randint as sp_randint\n",
    "from scipy.stats import uniform  # Import uniform\n",
    "from sklearn.ensemble import RandomForestRegressor  # Import RandomForestRegressor\n",
    "from sklearn.ensemble import GradientBoostingRegressor\n",
    "from sklearn.linear_model import Ridge  # Import Ridge\n",
    "\n"
   ]
  },
  {
   "cell_type": "code",
   "execution_count": 8,
   "metadata": {},
   "outputs": [],
   "source": [
    "df = pd.read_csv('Final_v1.csv')"
   ]
  },
  {
   "cell_type": "code",
   "execution_count": 9,
   "metadata": {},
   "outputs": [],
   "source": [
    "df = df[['id', 'action_time', 'unsurity', 'structural_change',\n",
    "       'long_paste', 'unproductive_time', 'external_help',\n",
    "       'pasted_words_number', 'large_changes','score']]"
   ]
  },
  {
   "cell_type": "code",
   "execution_count": 10,
   "metadata": {},
   "outputs": [
    {
     "data": {
      "text/html": [
       "<div>\n",
       "<style scoped>\n",
       "    .dataframe tbody tr th:only-of-type {\n",
       "        vertical-align: middle;\n",
       "    }\n",
       "\n",
       "    .dataframe tbody tr th {\n",
       "        vertical-align: top;\n",
       "    }\n",
       "\n",
       "    .dataframe thead th {\n",
       "        text-align: right;\n",
       "    }\n",
       "</style>\n",
       "<table border=\"1\" class=\"dataframe\">\n",
       "  <thead>\n",
       "    <tr style=\"text-align: right;\">\n",
       "      <th></th>\n",
       "      <th>id</th>\n",
       "      <th>action_time</th>\n",
       "      <th>unsurity</th>\n",
       "      <th>structural_change</th>\n",
       "      <th>long_paste</th>\n",
       "      <th>unproductive_time</th>\n",
       "      <th>external_help</th>\n",
       "      <th>pasted_words_number</th>\n",
       "      <th>large_changes</th>\n",
       "      <th>score</th>\n",
       "    </tr>\n",
       "  </thead>\n",
       "  <tbody>\n",
       "    <tr>\n",
       "      <th>0</th>\n",
       "      <td>001519c8</td>\n",
       "      <td>12.602309</td>\n",
       "      <td>0.000000</td>\n",
       "      <td>0.000000</td>\n",
       "      <td>0.0</td>\n",
       "      <td>9.825904</td>\n",
       "      <td>0.0</td>\n",
       "      <td>0.000000</td>\n",
       "      <td>0.000000</td>\n",
       "      <td>3.5</td>\n",
       "    </tr>\n",
       "    <tr>\n",
       "      <th>1</th>\n",
       "      <td>0022f953</td>\n",
       "      <td>12.525951</td>\n",
       "      <td>0.000000</td>\n",
       "      <td>0.000000</td>\n",
       "      <td>0.0</td>\n",
       "      <td>9.531119</td>\n",
       "      <td>0.0</td>\n",
       "      <td>0.000000</td>\n",
       "      <td>0.000000</td>\n",
       "      <td>3.5</td>\n",
       "    </tr>\n",
       "    <tr>\n",
       "      <th>2</th>\n",
       "      <td>0042269b</td>\n",
       "      <td>12.950868</td>\n",
       "      <td>0.693147</td>\n",
       "      <td>1.609438</td>\n",
       "      <td>0.0</td>\n",
       "      <td>10.432703</td>\n",
       "      <td>0.0</td>\n",
       "      <td>0.000000</td>\n",
       "      <td>1.791759</td>\n",
       "      <td>6.0</td>\n",
       "    </tr>\n",
       "    <tr>\n",
       "      <th>3</th>\n",
       "      <td>0059420b</td>\n",
       "      <td>12.152656</td>\n",
       "      <td>0.000000</td>\n",
       "      <td>0.000000</td>\n",
       "      <td>0.0</td>\n",
       "      <td>8.027150</td>\n",
       "      <td>0.0</td>\n",
       "      <td>0.693147</td>\n",
       "      <td>0.000000</td>\n",
       "      <td>2.0</td>\n",
       "    </tr>\n",
       "    <tr>\n",
       "      <th>4</th>\n",
       "      <td>0075873a</td>\n",
       "      <td>12.656202</td>\n",
       "      <td>0.000000</td>\n",
       "      <td>0.000000</td>\n",
       "      <td>0.0</td>\n",
       "      <td>8.852093</td>\n",
       "      <td>0.0</td>\n",
       "      <td>0.000000</td>\n",
       "      <td>0.000000</td>\n",
       "      <td>4.0</td>\n",
       "    </tr>\n",
       "  </tbody>\n",
       "</table>\n",
       "</div>"
      ],
      "text/plain": [
       "         id  action_time  unsurity  structural_change  long_paste  \\\n",
       "0  001519c8    12.602309  0.000000           0.000000         0.0   \n",
       "1  0022f953    12.525951  0.000000           0.000000         0.0   \n",
       "2  0042269b    12.950868  0.693147           1.609438         0.0   \n",
       "3  0059420b    12.152656  0.000000           0.000000         0.0   \n",
       "4  0075873a    12.656202  0.000000           0.000000         0.0   \n",
       "\n",
       "   unproductive_time  external_help  pasted_words_number  large_changes  score  \n",
       "0           9.825904            0.0             0.000000       0.000000    3.5  \n",
       "1           9.531119            0.0             0.000000       0.000000    3.5  \n",
       "2          10.432703            0.0             0.000000       1.791759    6.0  \n",
       "3           8.027150            0.0             0.693147       0.000000    2.0  \n",
       "4           8.852093            0.0             0.000000       0.000000    4.0  "
      ]
     },
     "execution_count": 10,
     "metadata": {},
     "output_type": "execute_result"
    }
   ],
   "source": [
    "df.head()"
   ]
  },
  {
   "cell_type": "code",
   "execution_count": 11,
   "metadata": {},
   "outputs": [
    {
     "name": "stderr",
     "output_type": "stream",
     "text": [
      "/Users/ayushlodha/opt/anaconda3/lib/python3.9/site-packages/sklearn/utils/validation.py:623: FutureWarning: is_sparse is deprecated and will be removed in a future version. Check `isinstance(dtype, pd.SparseDtype)` instead.\n",
      "  if not hasattr(array, \"sparse\") and array.dtypes.apply(is_sparse).any():\n"
     ]
    },
    {
     "data": {
      "text/plain": [
       "{'RandomForestRegressor': 0.9101702109316404,\n",
       " 'GradientBoostingRegressor': 1.0115014594626157,\n",
       " 'Ridge': 1.0326654400078852}"
      ]
     },
     "execution_count": 11,
     "metadata": {},
     "output_type": "execute_result"
    }
   ],
   "source": [
    "X = df.drop(['id', 'score'], axis=1)\n",
    "y = df['score']\n",
    "\n",
    "# Splitting the dataset into the Training set and Test set\n",
    "X_train, X_test, y_train, y_test = train_test_split(X, y, test_size=0.2, stratify=y, random_state=0)\n",
    "\n",
    "# Applying PCA\n",
    "pca = PCA(n_components=2)\n",
    "X_train_pca = pca.fit_transform(X_train)\n",
    "\n",
    "X_test = \n",
    "\n",
    "# Models to train: RandomForestRegressor, GradientBoostingRegressor, Ridge\n",
    "models = {\n",
    "    \"RandomForestRegressor\": RandomForestRegressor(),\n",
    "    \"GradientBoostingRegressor\": GradientBoostingRegressor(),\n",
    "    \"Ridge\": Ridge()\n",
    "}\n",
    "\n",
    "# Parameter distributions for RandomizedSearchCV\n",
    "param_distributions = {\n",
    "    \"RandomForestRegressor\": {'n_estimators': sp_randint(100, 200), 'max_depth': [None, 10, 20]},\n",
    "    \"GradientBoostingRegressor\": {'n_estimators': sp_randint(100, 200), 'learning_rate': uniform(0.01, 0.5), 'max_depth': [3, 5, 10]},\n",
    "    \"Ridge\": {'alpha': uniform(0.1, 10)}\n",
    "}\n",
    "\n",
    "# Running RandomizedSearchCV for each model\n",
    "best_estimators = {}\n",
    "for model_name in models:\n",
    "    random_search = RandomizedSearchCV(estimator=models[model_name], param_distributions=param_distributions[model_name], n_iter=10, cv=5, random_state=0)\n",
    "    random_search.fit(X_train, y_train)\n",
    "    best_estimators[model_name] = random_search.best_estimator_\n",
    "\n",
    "# Evaluating the models\n",
    "mse_scores = {}\n",
    "for model_name, model in best_estimators.items():\n",
    "    y_pred = model.predict(X_test)\n",
    "    mse = mean_squared_error(y_test, y_pred)\n",
    "    mse_scores[model_name] = mse\n",
    "\n",
    "# Displaying the MSE scores\n",
    "mse_scores"
   ]
  },
  {
   "cell_type": "code",
   "execution_count": 12,
   "metadata": {},
   "outputs": [
    {
     "data": {
      "text/plain": [
       "{'RandomForestRegressor': 0.9247474747474748,\n",
       " 'GradientBoostingRegressor': 1.0196969696969698,\n",
       " 'Ridge': 1.155050505050505}"
      ]
     },
     "execution_count": 12,
     "metadata": {},
     "output_type": "execute_result"
    }
   ],
   "source": [
    "# Evaluating the models\n",
    "mse_scores = {}\n",
    "for model_name, model in best_estimators.items():\n",
    "    y_pred = model.predict(X_test)\n",
    "    y_pred_rounded = np.round(y_pred)  # Round off predictions\n",
    "    mse = mean_squared_error(y_test, y_pred_rounded)\n",
    "    mse_scores[model_name] = mse\n",
    "\n",
    "# Displaying the MSE scores\n",
    "mse_scores\n"
   ]
  },
  {
   "cell_type": "code",
   "execution_count": null,
   "metadata": {},
   "outputs": [],
   "source": []
  }
 ],
 "metadata": {
  "kernelspec": {
   "display_name": "base",
   "language": "python",
   "name": "python3"
  },
  "language_info": {
   "codemirror_mode": {
    "name": "ipython",
    "version": 3
   },
   "file_extension": ".py",
   "mimetype": "text/x-python",
   "name": "python",
   "nbconvert_exporter": "python",
   "pygments_lexer": "ipython3",
   "version": "3.9.13"
  }
 },
 "nbformat": 4,
 "nbformat_minor": 2
}
